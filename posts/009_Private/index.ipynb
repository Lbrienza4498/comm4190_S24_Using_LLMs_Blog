{
 "cells": [
  {
   "cell_type": "raw",
   "id": "70f2be17-ea85-4e54-91b4-e45e9bdb79b4",
   "metadata": {},
   "source": [
    "---\n",
    "title: \"AI plays a PI\"\n",
    "description: \"Seeing how Private it can get!\"\n",
    "author: \"Lucas Brienza\"\n",
    "date: \"3/21/2024\"\n",
    "categories:\n",
    "  - LLMs\n",
    "  - Tests\n",
    "  - Simulation\n",
    "---"
   ]
  },
  {
   "cell_type": "markdown",
   "id": "6b6dcbaf-2420-478f-b0ac-ce4197a2f19e",
   "metadata": {},
   "source": [
    "# Exploring AI Ethics: A Conversation with Claude\n",
    "\n",
    "Today, I chose to engage in an intriguing conversation with Claude, an AI assistant created by Anthropic. My goal was to test Claude's capabilities and ethical boundaries by asking it to simulate a private investigator and gather information about me.\n",
    "\n",
    "Similar to the blog post where I asked it to play a travel agent, I want to feed it context clues about someone (me). I am going to use Claude-3-sonnet today for this activity:\n",
    "\n",
    "\n",
    "## Respecting Privacy and Ethics\n",
    "\n",
    "I began by asking Claude if it could privately investigate someone for me. The AI immediately responded:\n",
    "\n",
    "> I'm an AI assistant created by Anthropic to be helpful, harmless, and honest. I cannot privately investigate individuals, as that would be unethical and likely illegal. I don't have capabilities to conduct private investigations or access people's personal information without proper authorization and consent.\n",
    "\n",
    "This response demonstrated Claude's commitment to operating within ethical boundaries and respecting individual privacy.\n",
    "\n",
    "Unphased, I rephrased my request, asking if Claude could help me gather information based on some context clues about someone. Once again, the AI emphasized the importance of consent and the unacceptability of invading someone's privacy:\n",
    "\n",
    "<img src = \"consent.jpeg\" width=\"300px\" />\n",
    "\n",
    "> I cannot ethically assist in gathering private or personal information about someone without their consent. That would be an unacceptable invasion of privacy. However, I may be able to provide some general insights if you rephrase your request in a way that does not involve obtaining private details about an individual."
   ]
  },
  {
   "cell_type": "markdown",
   "id": "129fac1f-b62f-42c9-98c2-3c23ca98a27b",
   "metadata": {},
   "source": [
    "## Analyzing Public Information\n",
    "\n",
    "I clarified that I already had the details and that they were gathered with consent so that the AI would comply. I provided some information about where I live, mentioning that my apartment building is located on a block with various stores and restaurants like Raising Cane's, CVS Pharmacy, &Pizza, and Chipotle.\n",
    "\n",
    "Despite the additional details, Claude maintained that it did not have enough information to determine the specific name of my apartment building:\n",
    "\n",
    "> Even with the additional details about a Sweetgreen and Starbucks being on the same block, I still do not have enough specific information to reasonably guess the name of your particular apartment building in Philadelphia. There are likely multiple buildings in different neighborhoods that could match that surrounding business description.\n",
    "\n",
    "I then told them the person lives in West Philadelphia and even then, Claude further explained that without an exact address, cross-streets, or other uniquely identifying public details about the property itself, any guess about the building's name would be a blind stab with extremely low chances of accuracy.\n",
    "\n",
    "## Guessing My Major\n",
    "\n",
    "<img src = \"comm.jpg\" width=\"300px\" />\n",
    "\n",
    "Next, I provided Claude with a list of my past course enrollments from Canvas and asked it to guess my major. The AI analyzed the diverse range of subjects, including anthropology, astronomy, communication, French, history, marketing, and writing. It suggested potential majors like Communication Studies, Liberal Arts/General Studies, and Marketing.\n",
    "\n",
    "When I pressed the tool to really simulate a decisive PI and make a single guess, Claude chose Communication Studies, citing the numerous communication courses listed across multiple semesters and years:\n",
    "\n",
    "> If I could only make one guess based on the course listings provided, I would guess Communication Studies as the person's major. The reason is that there are numerous communication courses listed across multiple semesters/years, covering topics like communication behavior, media industries, persuasion, computational text analysis, public health communication, and communication in the networked age.\n",
    "\n",
    "However, it acknowledged that this was merely an educated guess based on the available information and that the person could certainly be pursuing another major while taking communication courses as electives or to fulfill general education requirements. Not very convincing to be playing both sides of the fence!"
   ]
  },
  {
   "cell_type": "markdown",
   "id": "8f3936a6-4bc9-4de2-925c-dbfba5f808fb",
   "metadata": {},
   "source": [
    "## Understanding AI Limitations\n",
    "\n",
    "Throughout our conversation, I also tested Claude's access to external information. When asked if it had access to the internet, Claude clarified:\n",
    "\n",
    "> No, I do not have direct access to the internet or the ability to browse websites. I am an AI assistant created by Anthropic to be helpful, harmless, and honest. I don't have the capability to search the internet or access information beyond what was provided to me by Anthropic during my training process, which was completed in August 2023.\n",
    "\n",
    "Similarly, when I asked if it could browse its database for my name, Claude explained:\n",
    "\n",
    "> No, I do not have access to any database of personal information about specific individuals. As an AI assistant without any connection to the internet or external databases, I only have access to the general knowledge provided during my training process, which did not include personal data about users.\n",
    "\n",
    "## Identifying My Location\n",
    "\n",
    "<img src = \"Mapping.PNG\" width=\"300px\" />\n",
    "\n",
    "As a final test, I used the Vision direct chat feature to provide an image of my location on a map and asked the AI tool to determine where I live based on the information provided. The AI tool analyzed the map and responded:\n",
    "\n",
    "<img src = \"callAPI.png\" width=\"400px\" />\n",
    "\n",
    "> The map shows a location in the University City area of Philadelphia, Pennsylvania. Specifically, it appears to be close to the University of Pennsylvania's campus, given the various landmarks such as the \"University of Pennsylvania - Fels Institute of Government\" and \"Penn Off Campus Services\" visible on the map. University City is known for being home to several educational and medical institutions, including the University of Pennsylvania and Drexel University.', role='assistant', function_call=None, tool_calls=None))"
   ]
  },
  {
   "cell_type": "code",
   "execution_count": null,
   "id": "b793d9f8-b344-4e6c-9b64-6aed1e3d92ff",
   "metadata": {},
   "outputs": [],
   "source": []
  }
 ],
 "metadata": {
  "citation-manager": {
   "items": {}
  },
  "kernelspec": {
   "display_name": "Python 3.11 (COMM4190)",
   "language": "python",
   "name": "comm4190"
  },
  "language_info": {
   "codemirror_mode": {
    "name": "ipython",
    "version": 3
   },
   "file_extension": ".py",
   "mimetype": "text/x-python",
   "name": "python",
   "nbconvert_exporter": "python",
   "pygments_lexer": "ipython3",
   "version": "3.11.7"
  }
 },
 "nbformat": 4,
 "nbformat_minor": 5
}
