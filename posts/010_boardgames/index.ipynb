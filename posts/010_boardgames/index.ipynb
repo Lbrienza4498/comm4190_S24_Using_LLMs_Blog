{
 "cells": [
  {
   "cell_type": "raw",
   "id": "6ae58e6b-8d58-4a85-87b5-7ffc6d8593da",
   "metadata": {},
   "source": [
    "---\n",
    "title: \"Bard, Board Games, Oh my!\"\n",
    "description: \"Spoiler: it's bad\"\n",
    "author: \"Lucas Brienza\"\n",
    "date: \"3/21/2024\"\n",
    "categories:\n",
    "  - LLMs\n",
    "  - Games\n",
    "  - Board games\n",
    "---"
   ]
  },
  {
   "cell_type": "markdown",
   "id": "b40f782c-7aef-45bb-85fd-d6d31f217808",
   "metadata": {},
   "source": [
    "# My Disappointing Experience Playing Board Games with an AI\n",
    "\n",
    "As a board game lover, I wanted to test Bard and Claude-3-Opus's ability to play a couple of classic games with me. I was excited to see how well the AI would perform in games that require strategic thinking and planning. However, my experience left me disappointed and frustrated. Let me share the story with you.\n",
    "\n",
    "## Tic-Tac-Toe: A Game of Inconsistency and Inaccuracy\n",
    "\n",
    "I started by asking the AI to play Tic-Tac-Toe with me. The AI agreed and provided a brief explanation of the game's rules and setup. However, things quickly went downhill from there.\n",
    "\n",
    "First, the AI asked me to provide my moves in a \"row,column\" format, like this:\n",
    "\n",
    "```\n",
    "1,3\n",
    "```\n",
    "\n",
    "But then, it failed to adhere to this format itself. Instead, it used a different notation, which made it challenging for me to follow the game and understand the AI's moves.\n",
    "\n",
    "As the game progressed, I managed to place my Os in the top row, creating a winning combination:\n",
    "\n",
    "```\n",
    "| O | O | O |\n",
    "|---|---|---|\n",
    "| X | X |   |\n",
    "|---|---|---|\n",
    "|   |   |   |\n",
    "```\n",
    "\n",
    "However, the AI failed to recognize my victory and instead declared the game a tie. This mistake demonstrated a lack of understanding of the game's winning conditions."
   ]
  },
  {
   "cell_type": "markdown",
   "id": "80a41654-93ba-4521-93ea-953f5525c4b7",
   "metadata": {},
   "source": [
    "## Connect 4: A Series of Inconsistencies\n",
    "\n",
    "Undeterred by my experience with Tic-Tac-Toe, I decided to give the AI another chance and play Connect 4. Once again, the AI seemed eager to play.\n",
    "\n",
    "However, as we began playing, the AI made several mistakes that negatively impacted the gaming experience. On multiple occasions, it made errors in representing the board state after a move. For example, after its first move, the AI showed the following board state:\n",
    "\n",
    "```\n",
    "|---|---|---|---|---|---|---|\n",
    "|---|---|---|---|---|---|---|\n",
    "|---|---|---|---|---|---|---|\n",
    "|---|---|---|---|---|---|---|\n",
    "|---|---|---|R|---|---|---|\n",
    "|---|---|---|R|---|---|Y|\n",
    "```\n",
    "\n",
    "As you can see, it added two red discs (R) in column 4, despite only having taken one turn. These inconsistencies made it difficult for me to follow the game and plan my moves effectively.\n",
    "\n",
    "Moreover, when I placed my yellow disc in column 7, resulting in the following board state:\n",
    "\n",
    "```\n",
    "|---|---|---|---|---|---|---|\n",
    "|---|---|---|---|---|---|---|\n",
    "|---|---|---|R|---|---|---|\n",
    "|---|---|---|Y|---|---|Y|\n",
    "|---|---|---|Y|---|---|Y|\n",
    "|---|---|---|R|R|R|Y|\n",
    "```\n",
    "\n",
    "The AI prematurely declared me the winner, even though there were only three of my yellow discs connected vertically, not the required four. This mistake further demonstrated its lack of understanding of the game's winning conditions.\n",
    "\n",
    "As the game progressed, it became clear that the AI's moves were random and did not demonstrate any advanced planning or attempt to block my potential winning moves. The game play experience was far from challenging or engaging."
   ]
  },
  {
   "cell_type": "markdown",
   "id": "5eeac548-50fa-4656-9d39-ed0f92278a44",
   "metadata": {},
   "source": [
    "## Conclusion: AI Must Improve to Provide a Satisfying Board Gaming Experience\n",
    "\n",
    "My experience playing board games with these AI tools highlighted several areas where significant improvement is needed:\n",
    "\n",
    "1. **Consistency in Communication and Game State Representation**: The AI must maintain consistency in its communication and representation of the game state to ensure an enjoyable gaming experience. Inconsistencies in move notation and board state representation made it difficult for me to follow the game and plan my moves effectively.\n",
    "\n",
    "2. **Accurate Understanding of Game Rules and Winning Conditions**: A clear and accurate understanding of the game's rules and winning conditions is essential to avoid false declarations of victory and provide accurate feedback to the player. The AI's inability to recognize my winning move in Tic-Tac-Toe and its premature declaration of victory in Connect 4 demonstrated a lack of understanding of the games' winning conditions.\n",
    "\n",
    "3. **Incorporation of Strategic Decision-Making Capabilities**: To create a challenging and engaging gameplay experience, the AI must incorporate strategic decision-making capabilities. The AI's moves in both games appeared to be random and did not demonstrate any advanced planning or attempt to block my potential winning moves, resulting in a less-than-satisfying gaming experience."
   ]
  },
  {
   "cell_type": "code",
   "execution_count": null,
   "id": "be96e064-7873-4403-b53f-d00d667e89ce",
   "metadata": {},
   "outputs": [],
   "source": []
  }
 ],
 "metadata": {
  "citation-manager": {
   "items": {}
  },
  "kernelspec": {
   "display_name": "Python 3.11 (COMM4190)",
   "language": "python",
   "name": "comm4190"
  },
  "language_info": {
   "codemirror_mode": {
    "name": "ipython",
    "version": 3
   },
   "file_extension": ".py",
   "mimetype": "text/x-python",
   "name": "python",
   "nbconvert_exporter": "python",
   "pygments_lexer": "ipython3",
   "version": "3.11.7"
  }
 },
 "nbformat": 4,
 "nbformat_minor": 5
}
