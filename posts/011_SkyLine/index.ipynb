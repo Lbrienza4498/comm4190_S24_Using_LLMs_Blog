{
 "cells": [
  {
   "cell_type": "raw",
   "id": "b0770a3a-87a1-477a-b042-3f0daf1595a5",
   "metadata": {},
   "source": [
    "---\n",
    "title: \"At a First Glance: the Skyline test!\"\n",
    "description: \"Experiments with AI\"\n",
    "author: \"Lucas Brienza\"\n",
    "date: \"3/24/2024\"\n",
    "categories:\n",
    "  - LLMs\n",
    "  - TikTok Trends\n",
    "  - Guessing\n",
    "---"
   ]
  },
  {
   "cell_type": "markdown",
   "id": "025bbd32-c0b2-41c1-8a33-5c33f35451b7",
   "metadata": {},
   "source": [
    "# Guessing Cities by Their Skylines: AI vs. Human\n",
    "\n",
    "As an constant TikTok user, much to my dismay, I've come across fun videos that test your ability to guess a city based on its skyline. The trend features a carousel of photos, starting with easy skylines and progressively getting harder. I decided to put AI to the test and see how it fares in this challenge compared to my own 50% success rate (which, let's be honest, isn't all that impressive).\n",
    "\n",
    "## The Experiment\n",
    "\n",
    "To assess AI's skyline-guessing abilities, I turned to chat.lmsys.org and their vision direct chat feature. I uploaded a series of skyline images, ranging from well-known cities to more obscure ones, and waited for the AI's responses. I used the same prompt every time which was: guess this city by its skyline.\n",
    "\n",
    "## New York City: An Easy Start\n",
    "\n",
    "<img src = \"NYC.jpg\" width=\"300px\" />\n",
    "\n",
    "I started with an easy one: New York City. The AI confidently identified the skyline, even pointing out the iconic One World Trade Center (also known as the Freedom Tower) and the Hudson River in the foreground. So far, so good!\n",
    "\n",
    "## Philadelphia: A Tricky One\n",
    "\n",
    "<img src = \"philly.jpg\" width=\"300px\" />\n",
    "\n",
    "Next up was Philadelphia. I have to admit, if I didn't go to school here, I probably wouldn't have recognized it myself. But the AI nailed it, mentioning the prominent skyscrapers and the layout of the buildings along the river.\n",
    "\n",
    "## Nashville: The Music City\n",
    "\n",
    "<img src = \"nash.jpg\" width=\"300px\" />\n",
    "\n",
    "We're getting progressively harder, but the AI remained unfazed. It correctly identified Nashville, Tennessee, by recognizing the distinctive AT&T Building, often referred to as the \"Guitar Pick Building.\"\n",
    "\n",
    "## Jakarta: AI's First Stumble\n",
    "\n",
    "<img src = \"jakarta.jpg\" width=\"300px\" />\n",
    "\n",
    "As we ventured into international territory, the AI stumbled. It mistook Jakarta's skyline for that of Kuala Lumpur, Malaysia, citing the Petronas Twin Towers as the reason for its guess. Oops!\n",
    "\n",
    "## Doha: Back on Track\n",
    "\n",
    "<img src = \"doha.jpg\" width=\"300px\" />\n",
    "\n",
    "The AI redeemed itself with Doha, Qatar, accurately identifying the city's modern architecture and distinctive curved facade building.\n",
    "\n",
    "## Milan and Madrid: European Challenges\n",
    "\n",
    "<img src = \"madrid.jpg\" width=\"300px\" />\n",
    "<img src = \"milan.jpg\" width=\"300px\" />\n",
    "\n",
    "When we moved to Europe, the AI struggled. It couldn't pinpoint Milan, Italy, and even when presented with a close-up of Madrid, Spain, it guessed Barcelona instead.\n",
    "\n",
    "## Bangkok: The Home Stretch\n",
    "\n",
    "<img src = \"bangkok.jpg\" width=\"300px\" />\n",
    "\n",
    "For our last challenge, we headed to Bangkok, Thailand. Unfortunately, the AI couldn't identify the city, citing a lack of specific landmarks or unique structures."
   ]
  },
  {
   "cell_type": "markdown",
   "id": "13f553e9-0757-40e4-95b1-e4a195da96b5",
   "metadata": {},
   "source": [
    "## Strengths and Weaknesses\n",
    "\n",
    "Throughout this experiment, I noticed some clear strengths and weaknesses in the AI's ability to guess cities by their skylines:\n",
    "\n",
    "Strengths:\n",
    "- Recognizes iconic landmarks and buildings\n",
    "- Performs well with well-known cities\n",
    "- Identifies architectural styles and layouts\n",
    "\n",
    "Weaknesses:\n",
    "- Confuses cities with similar architectural features\n",
    "- Has difficulty when specific landmarks are not clearly visible\n",
    "\n",
    "## Conclusion\n",
    "\n",
    "While the AI demonstrated impressive skills in identifying some cities, it's clear that it still has room for improvement. As a human, I can relate to the challenge of recognizing less familiar skylines, but I also have the advantage of context. "
   ]
  },
  {
   "cell_type": "code",
   "execution_count": null,
   "id": "956d5120-7532-40b1-b5af-721aed702e80",
   "metadata": {},
   "outputs": [],
   "source": []
  }
 ],
 "metadata": {
  "citation-manager": {
   "items": {}
  },
  "kernelspec": {
   "display_name": "Python 3.11 (COMM4190)",
   "language": "python",
   "name": "comm4190"
  },
  "language_info": {
   "codemirror_mode": {
    "name": "ipython",
    "version": 3
   },
   "file_extension": ".py",
   "mimetype": "text/x-python",
   "name": "python",
   "nbconvert_exporter": "python",
   "pygments_lexer": "ipython3",
   "version": "3.11.7"
  }
 },
 "nbformat": 4,
 "nbformat_minor": 5
}
