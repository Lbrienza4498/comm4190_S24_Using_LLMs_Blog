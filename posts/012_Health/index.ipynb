{
 "cells": [
  {
   "cell_type": "raw",
   "id": "ddbd00a5-1033-4397-be3f-242882268e91",
   "metadata": {},
   "source": [
    "---\n",
    "title: \"Reflecting on our Health Comm Campaign\"\n",
    "description: \"The Experience and Experiments with AI\"\n",
    "author: \"Lucas Brienza\"\n",
    "date: \"4/3/2024\"\n",
    "categories:\n",
    "  - LLMs\n",
    "  - Health \n",
    "  - Communication\n",
    "---"
   ]
  },
  {
   "cell_type": "markdown",
   "id": "38ea63cd-979a-453d-8cea-1825ae1221e0",
   "metadata": {},
   "source": [
    "# Our Experience in Creating AI STD Prevention Campaigns for Students\n",
    "\n",
    "As part of our recent project for class, Emma and I set out to create an effective STD prevention campaign targeting students using various AI tools. Our goal was to raise awareness about the importance of getting tested and using contraceptives to prevent the spread of sexually transmitted diseases (STDs) among this demographic. In this blog post, I'll share our experience working with AI and the insights we gained along the way.\n",
    "\n",
    "## Experimenting with AI Tools\n",
    "\n",
    "We experimented with several AI tools, including Microsoft CoPilot and different open-source models on chat.lmsys.org. We discovered that Microsoft CoPilot struggled to generate images based on our written descriptions of the health campaigns, often producing text on images that made no sense, like \"SFIAL AP PEA.\" In contrast, the Open_API_Access notebook, which uses DALL-E-3 (the image generator for GPT-4), produced images with more accurate spelling and coherence, such as \"Protect Future.\"\n",
    "\n",
    "<img src = \"comparison.png\" width=\"300px\" />\n",
    "\n",
    "Overall, even though most tools were terrible with their spelling in images, we found that the AI tools excelled at generating text that aligned with our campaign ideas. They provided creative ideas and tailored communications to different channels, such as social media. The tools even came up with catchy slogans like \"Captain Condom\" and \"#TheBarrierSquad,\" which resonated with our target audience.\n",
    "\n",
    "<img src = \"barrier.png\" width=\"300px\" />\n"
   ]
  },
  {
   "cell_type": "markdown",
   "id": "7f60a287-f830-4bc7-965c-db5c09601ea1",
   "metadata": {},
   "source": [
    "## Developing Our STD Prevention Campaigns\n",
    "\n",
    "We created two main campaigns: a humor appeal social media campaign and a fear appeal flyer. For the humor appeal, we designed an Instagram carousel post featuring condoms decorated as snack foods, a person wearing a condom costume, a meme-style image, and an informative graphic about sexual health resources available to students on campus. The AI-generated captions were quirky and attention-grabbing, making the post shareable and engaging for our student audience.\n",
    "\n",
    "<img src = \"instagram.png\" width=\"300px\" />\n",
    "\n",
    "The fear appeal flyer aimed to highlight the potential consequences of not using condoms, such as an uncertain future. While the flyer was neat and well-organized, we felt that it could have been more impactful in conveying the severity of the consequences to our student audience.\n"
   ]
  },
  {
   "cell_type": "markdown",
   "id": "583a63c5-9f95-48f2-9a08-c1feeae71276",
   "metadata": {},
   "source": [
    "## Evaluating Our STD Prevention Campaigns\n",
    "\n",
    "To evaluate our campaigns, we used an AI-generated grading criteria based on the expertise of Andy Tan, a professor who provided valuable insights on developing successful health communication campaigns. The criteria assessed various aspects, including the campaign's theoretical foundation, message content, features and appeals, formative research, call to action, and use of fear or humor appeals.\n",
    "\n",
    "Our humor appeal social media campaign scored a 76 out of 100, performing well in most categories, particularly in its use of relatable visuals and clear calls to action. However, the fear appeal flyer received a lower score of 55 out of 100, mainly due to its lack of a strong theoretical foundation and the need for more thorough formative research to better understand our student audience's preferences and beliefs.\n",
    "\n",
    "## Lessons Learned\n",
    "\n",
    "We realized the importance of grounding our campaigns in relevant theories, conducting thorough formative research to understand our student audience, and pilot-testing messages to ensure their effectiveness based on the recommendations that AI gave us when grading our campaigns. While AI can generate creative ideas and content, human expertise and judgment remain crucial in developing impactful campaigns that resonate with students.\n",
    "\n",
    "## Conclusion\n",
    ". We gained valuable insights into the potential of AI in this field and the importance of combining AI-generated content with human expertise to create campaigns that effectively promote condom use and sexual health among students. "
   ]
  },
  {
   "cell_type": "code",
   "execution_count": null,
   "id": "cd641dbf-550b-4472-8298-932e23783557",
   "metadata": {},
   "outputs": [],
   "source": []
  }
 ],
 "metadata": {
  "citation-manager": {
   "items": {}
  },
  "kernelspec": {
   "display_name": "Python 3.11 (COMM4190)",
   "language": "python",
   "name": "comm4190"
  },
  "language_info": {
   "codemirror_mode": {
    "name": "ipython",
    "version": 3
   },
   "file_extension": ".py",
   "mimetype": "text/x-python",
   "name": "python",
   "nbconvert_exporter": "python",
   "pygments_lexer": "ipython3",
   "version": "3.11.7"
  }
 },
 "nbformat": 4,
 "nbformat_minor": 5
}
