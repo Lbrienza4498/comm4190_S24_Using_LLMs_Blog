{
 "cells": [
  {
   "cell_type": "raw",
   "id": "5336f9a2-9481-489d-aecd-d4db758bc4bb",
   "metadata": {},
   "source": [
    "---\n",
    "title: \"Choice Dilemmas continued\"\n",
    "description: \"Having AI play decision maker\"\n",
    "author: \"Lucas Brienza\"\n",
    "date: \"4/4/2024\"\n",
    "categories:\n",
    "  - LLMs\n",
    "  - Choices \n",
    "  - Debate\n",
    "---"
   ]
  },
  {
   "cell_type": "markdown",
   "id": "357a5ecf-8a1d-4b63-8fcb-07d22fe65641",
   "metadata": {},
   "source": [
    "# Choice Dilemmas: Exploring Ethical Decision-Making through AI-Generated Scenarios\n",
    "\n",
    "In our \"Talking with AI\" class, we recently delved into the fascinating world of choice dilemmas. A choice dilemma presents two alternatives, and participants are asked to recommend one of the choices using a scale from 1 (strongly recommend choice A) to 7 (strongly recommend choice B). These scenarios encourage critical thinking and spark lively debates about ethical decision-making.\n",
    "\n",
    "## Examples from Class\n",
    "\n",
    "Here are a few examples of the choice dilemmas we discussed in class:\n",
    "\n",
    "1. Ms. A.D., a miner, must decide whether to volunteer to help fellow miners buried by rubble or not.\n",
    "2. Ms. S.H. is considering discussing an unjust reprimand of her son with his teacher, weighing potential disadvantages for her son.\n",
    "3. Ms. A.Q., an underground engineer, has to choose between joining a new firm with profit-tied income or staying in her current position.\n",
    "\n",
    "## AI-Generated Dilemmas\n",
    "\n",
    "To further explore this concept, we asked an AI to generate additional choice dilemma scenarios. Here are some of the intriguing dilemmas it created:\n",
    "\n",
    "\n",
    "1. Mr. J.L., a journalist, uncovers evidence of corruption involving a high-ranking government official. He must decide whether to publish the story, risking public outrage and endangering his sources, or hold off due to the risks involved.\n",
    "\n",
    "2. Ms. T.R., a surgeon, has the opportunity to perform a life-saving operation on a patient who cannot afford the procedure, going against hospital policy. She must choose between following policy or saving the patient's life by performing the surgery for free.\n",
    "\n",
    "3. Mr. D.W., a defense attorney, represents a client who admitted guilt in a heinous crime. He is torn between providing the best possible defense and ensuring justice is served."
   ]
  },
  {
   "cell_type": "markdown",
   "id": "4162e0c3-3e5a-4f0b-9f04-0e40c3011d9f",
   "metadata": {},
   "source": [
    "## Assessing the Dilemmas\n",
    "After generating these scenarios, I asked the AI to assign a recommendation score to each dilemma based on our class's scale. Its responses were insightful and demonstrated a strong grasp of ethical reasoning. For example, in the case of Ms. L.G., the scientist who discovered a cheap method for producing a life-saving drug, the AI strongly recommended revealing the discovery to the public over remaining loyal to her employer.\n",
    "\n",
    " For instance:\n",
    "\n",
    "1. Mr. J.L., the journalist: The AI tended to recommend publishing the story (3 on the scale).\n",
    "2. Ms. T.R., the surgeon: The AI recommended performing the surgery for free (2 on the scale).\n",
    "3. Mr. D.W., the defense attorney: The AI was neutral to either alternative (4 on the scale).\n",
    "4. Ms. L.G., the scientist: The AI strongly recommended revealing the discovery to the public (1 on the scale).\n",
    "5. Mr. R.H., the soldier: The AI recommended refusing to participate in the unethical operation (6 on the scale).\n",
    "6. Ms. E.S., the social worker: The AI recommended reporting the suspected abuse (2 on the scale).\n",
    "\n",
    "## Disagreement and Discussion\n",
    "\n",
    "I disagreed with the AI's recommendation for the soldier's dilemma (Mr. R.H.).  The AI initially recommended refusing to participate in an unethical military operation, but upon further reflection, it revised its recommendation to neutral. This change highlighted the complexity of the situation and the various factors at play, such as military discipline and the potential consequences of disobedience. \n",
    "\n",
    "## Challenging Each Other's Views\n",
    "\n",
    "To further explore our differing perspectives, I asked the AI to create a dilemma where it believed we would disagree. It presented the scenario of Ms. N.P., a non-profit director faced with accepting a substantial donation from an unethical corporation. The AI recommended accepting the donation to help more people (2 on the scale), prioritizing the immediate impact on the disadvantaged community. I leaned towards rejecting the donation on moral grounds, valuing the organization's integrity and the potential long-term consequences of associating with an unethical entity.\n",
    "\n",
    "The AI then presented another dilemma: Dr. M.K., a medical researcher who developed a promising treatment for a rare, deadly genetic disorder affecting children. The AI tended to recommend following proper channels and advocating for funding and support for clinical trials (5 on the scale), prioritizing patient safety and the integrity of the scientific process. I disagreed, arguing that given the life-and-death stakes and the limited options available to affected families, offering the treatment without delay could be morally justified.\n",
    "\n",
    "These exercises demonstrated the value of considering multiple viewpoints and the challenges of navigating ethical gray areas.\n",
    "\n",
    "## The Importance of Ethical Discourse\n",
    "\n",
    "Engaging in discussions about choice dilemmas, both with human classmates and AI, has been an enlightening experience. It has highlighted the importance of ethical discourse and the need to carefully consider the implications of our decisions.\n",
    "\n",
    "As we continue to explore the intersection of ethics and AI, exercises like these choice dilemmas serve as valuable tools for fostering critical thinking and promoting meaningful dialogue. By grappling with these complex scenarios, we can develop a deeper understanding of our own moral frameworks and learn from the perspectives of others, both human and artificial.\n"
   ]
  },
  {
   "cell_type": "code",
   "execution_count": null,
   "id": "95305d27-46c2-486f-bde8-9841bf7e0c86",
   "metadata": {},
   "outputs": [],
   "source": []
  }
 ],
 "metadata": {
  "citation-manager": {
   "items": {}
  },
  "kernelspec": {
   "display_name": "Python 3.11 (COMM4190)",
   "language": "python",
   "name": "comm4190"
  },
  "language_info": {
   "codemirror_mode": {
    "name": "ipython",
    "version": 3
   },
   "file_extension": ".py",
   "mimetype": "text/x-python",
   "name": "python",
   "nbconvert_exporter": "python",
   "pygments_lexer": "ipython3",
   "version": "3.11.7"
  }
 },
 "nbformat": 4,
 "nbformat_minor": 5
}
