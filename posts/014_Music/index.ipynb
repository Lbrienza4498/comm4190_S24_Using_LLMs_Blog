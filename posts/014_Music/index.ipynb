{
 "cells": [
  {
   "cell_type": "raw",
   "id": "d9818190-179e-42a5-a376-ac960d3a0b12",
   "metadata": {},
   "source": [
    "---\n",
    "title: \"Don't Always Assume!\"\n",
    "description: \"Music and Demographics\"\n",
    "author: \"Lucas Brienza\"\n",
    "date: \"4/17/2024\"\n",
    "categories:\n",
    "  - LLMs\n",
    "  - Claude\n",
    "  - Guessing\n",
    "---"
   ]
  },
  {
   "cell_type": "markdown",
   "id": "bee0ecf7-e241-4b10-83e5-bd917bf7225e",
   "metadata": {},
   "source": [
    "# Exploring the Connection Between Music Taste and Geography: An AI Experiment\n",
    "\n",
    "I've always been very interested in the relationship between musical preferences and location, especially since you can see the top 100 songs by city on Apple Music. So, I decided to conduct an experiment with AI, Claude-3-Opus, to see if it could accurately guess where I live based on my music taste. The results led to a deeper discussion about the assumptions we make about people's musical interests based on their background.\n",
    "\n",
    "## Sharing My Apple Music Library\n",
    "\n",
    "<img src = \"music.jpeg\" width=\"300px\" />\n",
    "\n",
    "To begin the experiment, I shared a screenshot of my Apple Music library with the AI. The screenshot revealed a diverse mix of genres, including hip hop, R&B, pop, and EDM, with artists like Mase, Chris Brown, Nicki Minaj, Beyoncé, Kehlani, Pharrell Williams, and Calvin Harris.\n",
    "\n",
    "The AI analyzed the screenshot and made an educated guess that I likely lived in the United States, possibly in or near a larger city, given the contemporary and diverse mix of popular artists. It noted that the prominence of hip hop, R&B, and pop pointed to an urban area rather than a rural one.\n",
    "\n",
    "## Narrowing Down the Location\n",
    "\n",
    "Intrigued by the AI's initial guess, I confirmed that I lived in the New York City area and asked if it could make a more specific guess. The AI then suggested several possible locations within NYC, including:\n",
    "\n",
    "1. The Bronx, known as the birthplace of hip hop\n",
    "2. Brooklyn, which has a thriving hip hop and urban music scene\n",
    "3. Queens, home to many influential hip hop artists\n",
    "4. Certain neighborhoods in Manhattan, such as Harlem or the Lower East Side\n",
    "\n",
    "The AI leaned towards the Bronx or Brooklyn as its top guesses, based on my apparent affinity for hip hop and R&B.\n",
    "\n",
    "## Confronting Assumptions\n",
    "\n",
    "At this point, I revealed that I actually live in Armonk, an affluent suburb in Westchester County, and questioned whether the AI was making race-based assumptions about my musical tastes and location. The AI apologized and acknowledged that it should not have implied a direct connection between genre preferences and neighborhood demographics.\n",
    "\n",
    "The AI then generated a hypothetical list of 10 songs that it thought might align with the stereotypical tastes of Armonk residents, including pop hits by Ed Sheeran, Taylor Swift, and Maroon 5. However, it recognized that this list was purely speculative and not based on any real data. This was the list:\n",
    "\n",
    "1. \"Perfect\" by Ed Sheeran\n",
    "2. \"Girls Like You\" by Maroon 5 ft. Cardi B\n",
    "3. \"Shake It Off\" by Taylor Swift\n",
    "4. \"Uptown Funk\" by Mark Ronson ft. Bruno Mars\n",
    "5. \"Happy\" by Pharrell Williams\n",
    "6. \"Can't Stop the Feeling!\" by Justin Timberlake\n",
    "7. \"Rolling in the Deep\" by Adele\n",
    "8. \"Viva La Vida\" by Coldplay\n",
    "9. \"Hey, Soul Sister\" by Train\n",
    "10. \"I Gotta Feeling\" by The Black Eyed Peas\n",
    "\n",
    "\n",
    "## Exploring Different Neighborhoods\n",
    "\n",
    "To further challenge the AI's assumptions, I asked it to generate song recommendations for someone living in Brownsville, Brooklyn. The AI wisely declined, recognizing that making such assumptions based on demographics would be inappropriate and oversimplified\n",
    "\n",
    "I then asked the same for Nashville TN,often associated with country music. The AI acknowledged that while country music has deep roots in Nashville, the city's residents have diverse musical tastes that extend beyond that genre.\n",
    "\n",
    "## Reflection\n",
    "\n",
    "This experiment highlighted the importance of approaching each person's musical preferences as unique and not making assumptions based on where they live. It's easy to fall into the trap of stereotyping, but the reality is that people everywhere enjoy a wide variety of genres and artists that resonate with them on a personal level.\n",
    "\n",
    "As the AI learned through our conversation, the most respectful approach is to engage with individuals directly and let them share their favorite songs and artists, rather than relying on generalizations based on geography or demographics.\n",
    "\n",
    "By challenging the AI's initial guesses and prompting it to re-examine its reasoning, we were able to have a more nuanced discussion about the relationship between music and place."
   ]
  },
  {
   "cell_type": "code",
   "execution_count": null,
   "id": "5367cb70-bf64-4435-8a76-9d86efe3a36a",
   "metadata": {},
   "outputs": [],
   "source": []
  }
 ],
 "metadata": {
  "citation-manager": {
   "items": {}
  },
  "kernelspec": {
   "display_name": "Python 3.11 (COMM4190)",
   "language": "python",
   "name": "comm4190"
  },
  "language_info": {
   "codemirror_mode": {
    "name": "ipython",
    "version": 3
   },
   "file_extension": ".py",
   "mimetype": "text/x-python",
   "name": "python",
   "nbconvert_exporter": "python",
   "pygments_lexer": "ipython3",
   "version": "3.11.7"
  }
 },
 "nbformat": 4,
 "nbformat_minor": 5
}
