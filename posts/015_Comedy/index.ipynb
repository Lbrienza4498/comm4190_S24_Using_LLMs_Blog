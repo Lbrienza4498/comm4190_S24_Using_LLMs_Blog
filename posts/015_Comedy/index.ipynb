{
 "cells": [
  {
   "cell_type": "raw",
   "id": "e8737617-2f1c-47ab-a51d-c5210804a785",
   "metadata": {},
   "source": [
    "---\n",
    "title: \"Can Claude make me laugh?\"\n",
    "description: \"AI as a Stand-Up Comedian\"\n",
    "author: \"Lucas Brienza\"\n",
    "date: \"4/29/2024\"\n",
    "categories:\n",
    "  - LLMs\n",
    "  - Prompting \n",
    "  - Comedy\n",
    "---"
   ]
  },
  {
   "cell_type": "markdown",
   "id": "c4f8f10b-6517-4a2c-9590-2ff3671ef58f",
   "metadata": {},
   "source": [
    "## Putting AI to the Test: Can It Deliver Stand-Up?\n",
    "\n",
    "As someone who loves a good laugh, I've always enjoyed going to stand-up shows. Stand-up comedy is defined as a type of comedy performance directed to a live audience in which the performer stands on a stage and delivers humorous and satirical monologues, with occasional physical acts. So, I couldn't help but wonder: can AI step up the plate? Currently, I have a premium subscription with Claude-3-Opus so I used this tool as my latest test subject."
   ]
  },
  {
   "cell_type": "markdown",
   "id": "841b400c-9ac6-4bb6-bccd-499a6ea0307b",
   "metadata": {},
   "source": [
    "<img src = \"standup.jpg\" width=\"300px\" />"
   ]
  },
  {
   "cell_type": "markdown",
   "id": "a98fd8af-0e1c-4c03-ac4a-7d55fcb79dff",
   "metadata": {},
   "source": [
    "### The Set-Up\n",
    "\n",
    "To put Claude's comedic skills to the test, I decided to have it create and perform a 5-minute stand-up set tailored to my sense of humor. I provided the AI with some key information:\n",
    "\n",
    "- My favorite comedians and their styles (i.e., Mitch Hedberg's one-liners, Sebastian Maniscalco storytelling)\n",
    "- Topics I find particularly amusing (e.g., dating mishaps, boomers with technology)\n",
    "- My general demographic info (age, hometown, ethnic background)\n",
    "\n",
    "With this insight in mind, I let Claude loose to work its magic.\n",
    "\n",
    "### The Material\n",
    "\n",
    "After a few minutes of processing, Claude delivered a surprisingly cohesive set. Here are a few of the bits:\n",
    "\n",
    "1. **Boomer Technology Fails:** \"You ever try to teach your Italian grandparents how to use FaceTime? It's like watching a cat trying to open a can of tuna. Lots of confusion, frustration, and the occasional hiss.\"\n",
    "\n",
    "I was surprised by its ability to connect these two entities by cracking a joke, as my Italian American grandma struggles to even operate the television remote. \n",
    "\n",
    "3. **Dating Disasters:** \"I once went on a date with a girl from Long Island. She spent the entire time comparing me to the guys from Jersey Shore. I didn't know whether to be flattered or offended, but I did know I wasn't ready for a fist pump.\"\n",
    "\n",
    "I found this to be a bit cringe and very specific to New York. I think this could've been funnier if I took more of an Italian angle, especially since it alluded to Jersey Shore, but this joke fell flat. \n",
    "\n",
    "5. **Suburban Strife:** \"Growing up Italian in the suburbs of New York City is like being in a constant state of identity crisis. You're torn between the traditional values of your grandparents and the modern world of avocado toast and yoga studios.\"\n",
    "\n",
    "I think the bits tried to play off  of relatable experiences for a 21-year-old Italian-American from the NYC suburbs, but I think that if these were spoken they would not be funny and they are especially not that funny because they are written. I will applaud though how Claude has managed to try and incorporate some of Sebastian Maniscalco's signature storytelling style. \n",
    "\n",
    "<img src = \"sebastian.jpg\" width=\"300px\" />"
   ]
  },
  {
   "cell_type": "markdown",
   "id": "14d0ec00-4a66-4523-a60f-f42afba64c03",
   "metadata": {},
   "source": [
    "### The Delivery\n",
    "\n",
    "Now, we all know that stand-up is about more than just the words on the page. It's about the delivery, the timing, the facial expressions, and the connection with the audience. So, I asked the tool: \"how would you advise someone to deliver a stand up comedy set if they wanted to be Sebastian Maniscalco? Which verbal skills would you tell them to use?\"\n",
    "\n",
    "1. **Storytelling:** M Encourage the aspiring comedian to develop narratives from their own life experiences, focusing on relatable topics and building up to a hilarious punchline.\n",
    "\n",
    "2. **Physicality:** Use expressive body language and facial expressions to enhance his jokes. Advise the comedian to practice using gestures and movements that complement their material.\n",
    "\n",
    "3. **Vocal dynamics:**  Coach the comedian to use a range of vocal techniques to emphasize certain words, create dramatic pauses, and convey emotions.\n",
    "\n",
    "5. **Timing and pacing:** Maniscalco's timing is impeccable, knowing when to pause for effect and when to quickly move on to the next joke. Help the comedian develop a sense of rhythm and pacing that keeps the audience engaged and laughing."
   ]
  },
  {
   "cell_type": "markdown",
   "id": "f1de3c15-f03e-45a8-9f65-d063cde29009",
   "metadata": {},
   "source": [
    "### The Verdict\n",
    "\n",
    "After reviewing Claude's attempt at stand-up comedy and considering the advice it provided on emulating Sebastian Maniscalco's style, I've come to a conclusion: while AI can generate somewhat amusing material and offer insightful tips on comedic delivery, it still falls short of capturing the true essence of live stand-up comedy.\n",
    "\n",
    "The bits Claude created, while occasionally clever, lacked the genuine humor and relatability that comes from a comedian's personal experiences and unique perspective. The jokes felt a bit forced and generic, missing the mark on truly capturing the nuances of growing up Italian-American in the New York City suburbs.\n",
    "\n",
    "Also, even with the solid advice on storytelling, physicality, vocal dynamics, and timing, the AI-generated material still felt flat when imagining it being delivered on stage. It's one thing to have the right techniques, but it's another to have the charisma, stage presence, and ability to connect with a live audience that makes a great stand-up comedian.\n",
    "\n",
    "At the end of the day, while AI tools like Claude can be helpful in brainstorming ideas and providing guidance on the technical aspects of comedy, they cannot replace the human element that makes stand-up so special. The unique life experiences and the ability to read the room can only be done by humans, thank god. "
   ]
  },
  {
   "cell_type": "code",
   "execution_count": null,
   "id": "fdc5a29c-2243-4f1d-8ccb-26b6b53eb27e",
   "metadata": {},
   "outputs": [],
   "source": []
  }
 ],
 "metadata": {
  "citation-manager": {
   "items": {}
  },
  "kernelspec": {
   "display_name": "Python 3.11 (Max - Klaviyo)",
   "language": "python",
   "name": "comm4190_max"
  },
  "language_info": {
   "codemirror_mode": {
    "name": "ipython",
    "version": 3
   },
   "file_extension": ".py",
   "mimetype": "text/x-python",
   "name": "python",
   "nbconvert_exporter": "python",
   "pygments_lexer": "ipython3",
   "version": "3.11.7"
  }
 },
 "nbformat": 4,
 "nbformat_minor": 5
}
