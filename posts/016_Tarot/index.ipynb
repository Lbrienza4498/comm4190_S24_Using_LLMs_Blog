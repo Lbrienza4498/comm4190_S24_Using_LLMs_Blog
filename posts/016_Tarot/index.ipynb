{
 "cells": [
  {
   "cell_type": "raw",
   "id": "817dd38b-53ea-47e7-8c42-487939dbf5e9",
   "metadata": {},
   "source": [
    "---\n",
    "title: \"AI and a Crystal Ball\"\n",
    "description: \"A Tarot card reading\"\n",
    "author: \"Lucas Brienza\"\n",
    "date: \"4/30/2024\"\n",
    "categories:\n",
    "  - LLMs\n",
    "  - Prompting \n",
    "  - Prediction\n",
    "---"
   ]
  },
  {
   "cell_type": "markdown",
   "id": "f86b21fe-f0a3-4bb8-96e2-cba178a7efc1",
   "metadata": {},
   "source": [
    "# AI Tarot: Unveiling the Future or Just Nonsense?\n",
    "\n",
    "As someone who's always been equal parts intrigued and skeptical about these types of readings, I wanted to try my hand at seeing if AI can rid my skepticism when it comes to tarot cards. With the help of Claude, I set out to discover whether an LLM could really offer profound insights into my life, or if they were just feeding me nonsense. "
   ]
  },
  {
   "cell_type": "markdown",
   "id": "4907b2ff-bde5-4c7a-b448-7b0225ab1be4",
   "metadata": {},
   "source": [
    "## The Setup\n",
    "\n",
    "To put Claude's tarot skills to the test, I decided to approach it as I would a human tarot reader. I centered myself, focused on a question that had been weighing on my mind (will I move out of my childhood home by the end of the year? (December 2024)), and asked the AI to perform a simple three-card spread: past, present, and future.\n",
    "\n",
    "I provided Claude with a list of the 78 tarot cards, each with its traditional meaning, and let the digital dealer work its algorithmic magic.\n",
    "\n",
    "<img src = \"tarot.jpg\" width=\"300px\" />\n",
    "\n",
    "## The Reading\n",
    "\n",
    "After a brief moment of virtual shuffling, Claude presented me with my three-card spread:\n",
    "\n",
    "1. Past: The Hermit - introspection, solitude, and self-reflection\n",
    "2. Present:  The Wheel of Fortune - change, transition, and abundance\n",
    "3. Future: The World - completion, accomplishment, and fulfillment\n",
    "\n",
    "As Claude began to form a narrative around these cards, I started to think how these cards could really be applied to any situation. Even though it spoke of a journey of self-discover and of the exciting new opportunities that lay ahead, my rational brand kicked in and saw it as generic, applying to anyone with any dream. \n",
    "\n",
    "I also realized that they did not specify as to whether the cards were upright or reversed, which is a major faux-pas in reading etiquette. So I asked the tool, \"are the cards upright or reversed?\" and then presented me with the following:\n",
    "\n",
    "1. Past: The Hermit (Upright) - This suggests that your time in introspection and self-reflection has been positive and productive. You have gained wisdom and understanding about yourself and your situation.\n",
    "2. Present: The Wheel of Fortune (Reversed) - A reversed Wheel of Fortune indicates that you may be experiencing some obstacles or delays in your current situation. This could mean that there are some challenges or resistance to your plans to move out of your childhood home.\n",
    "3. Future: The World (Upright) - The World card in the upright position is a positive sign, indicating completion, fulfillment, and success. Despite the challenges you may be facing in the present, the future outlook remains optimistic, suggesting that you will likely overcome any obstacles and achieve your goal of moving out by the end of December 2024.\n",
    "\n",
    "I mean...come on, this is so general! "
   ]
  },
  {
   "cell_type": "markdown",
   "id": "6cff6a60-9af4-4aad-992f-283eefa9e70f",
   "metadata": {},
   "source": [
    "## The Interpretation\n",
    "\n",
    "Determined to get to the bottom of this AI tarot mystery, I asked Claude to clarify how it had arrived at its interpretation. Its response was both illuminating and slightly disappointing:\n",
    "\n",
    "\"The reading is based on the traditional meanings of the cards and their positions, combined with the context of your question about moving out of your childhood home by the end of December 2024. The narrative I provided is a generalized interpretation that could apply to many situations involving personal growth and life transitions.\"\n",
    "\n",
    "So, there it was. The AI wasn't tapping into some mystical knowledge of the universe; it was simply doing what it does best: analyzing data it already has plus what I gave it and spitting out plausible, somewhat vague, responses. The mention of obstacles and challenges in the present seemed like a safe bet, given that most people face some sort of resistance when making significant life changes. And the optimistic future outlook? Well, who wouldn't want to hear that they'll achieve their goals in the end?\n",
    "\n",
    "I couldn't help but feel a bit let down. I had hoped that the AI might offer some truly profound insights, something that would make me rethink my skepticism about tarot readings. But instead, I was left with a handful of generic assertions that could apply to just about anyone.\n",
    "\n",
    "## The Verdict\n",
    "\n",
    "As much as I wanted to believe that Claude had unlocked some destiny I wasn't aware of yet,  I had to admit that AI tarot readings, while entertaining, are no substitute for genuine introspection. The lack of specificity in the reading, combined with the AI's reliance on broad archetypes and general themes, left me feeling like If I paid for this in real life, i'd be requesting a refund. \n",
    "\n",
    "Sure, it was fun to see how the AI put together a story based on a few random cards, but at the end of the day, the insights fell flat.\n",
    "\n",
    "That's not to say there's no value in AI-powered tarot, though. If nothing else, it can serve as a starting point for self-reflection and a playful way to engage with the age-old symbols of the cards. \n",
    "\n",
    "For now, this taught me that AI is maybe not the place for this, a heart-to-heart with a trusted friend is a much better option, or a pros and cons list.  As for my question about moving out by the end of the year? I guess I'll just have to wait and see what the cards have in store for me."
   ]
  },
  {
   "cell_type": "code",
   "execution_count": null,
   "id": "60746ac1-961b-4d99-92f1-d92938173ed7",
   "metadata": {},
   "outputs": [],
   "source": []
  }
 ],
 "metadata": {
  "citation-manager": {
   "items": {}
  },
  "kernelspec": {
   "display_name": "Python 3.11 (Max - Klaviyo)",
   "language": "python",
   "name": "comm4190_max"
  },
  "language_info": {
   "codemirror_mode": {
    "name": "ipython",
    "version": 3
   },
   "file_extension": ".py",
   "mimetype": "text/x-python",
   "name": "python",
   "nbconvert_exporter": "python",
   "pygments_lexer": "ipython3",
   "version": "3.11.7"
  }
 },
 "nbformat": 4,
 "nbformat_minor": 5
}
