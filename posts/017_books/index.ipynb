{
 "cells": [
  {
   "cell_type": "raw",
   "id": "c94506da-b86a-4cf9-80ed-51632011f88e",
   "metadata": {},
   "source": [
    "---\n",
    "title: \"Lets talk!\"\n",
    "description: \"(with books)\"\n",
    "author: \"Lucas Brienza\"\n",
    "date: \"4/30/2024\"\n",
    "categories:\n",
    "  - LLMs\n",
    "  - Bard\n",
    "  - Google\n",
    "---"
   ]
  },
  {
   "cell_type": "markdown",
   "id": "68e898d8-3686-4dbf-aea9-d709648db2a8",
   "metadata": {},
   "source": [
    "# My Adventure with AI Conversation: From Talk to Books to Bard\n",
    "\n",
    "As someone curious about the rapid advancements in AI, I stumbled on a past tool through Google that was called Talk to Books. Here is a quick description of what it was:\n",
    "\n",
    "Talk to Books was an experiment in using a neural language model to search through a large collection of books. Launched in 2018, it delighted millions of users who found that you really could converse with books in a way never imagined.\n",
    "\n",
    "The experiment proved the effectiveness of language models (sometimes called semantic matching or semantic retrieval models), and they went on to drive features inside such products as Google Shopping, Maps, Gmail, Hangouts, and others.\n",
    "\n",
    "Basically, it would allow users to type in any statement or question and have an AI model scan over 100,000 books to find relevant responses. I imagine it felt like having a virtual librarian at my fingertips\n",
    "\n",
    "Curious about the technology powering this innovative tool, I dug deeper and discovered that the brains behind Talk to Books was Ray Kurzweil, Google's Director of Engineering. Kurzweil revealed that the model had been trained on a staggering billion lines of dialogue, enabling it to identify and generate suitable responses to user input.\n",
    "\n",
    "I was very disappointed to see that is not running anymore but instead of using Talk to Books, I am going to use Bard since it is through the same parent company and apparently, it knows a lot about books. \n",
    "\n",
    "## Enter Bard\n",
    "\n",
    "Intrigued, I decided to give Bard a chance. I prompted the AI with the following:\n",
    "I wanted to be able to use Talk to Books but it doesn't run anymore. Talk to Books was an experiment in using a neural language model to search through a large collection of books. Launched in 2018, it delighted millions of users who found that you really could converse with books in a way never imagined.\n",
    "\n",
    "The experiment proved the effectiveness of language models (sometimes called semantic matching or semantic retrieval models), and they went on to drive features inside such products as Google Shopping, Maps, Gmail, Hangouts, and others.\n",
    "\n",
    "Basically, it would allow users to type in any statement or question and have an AI model scan over 100,000 books to find relevant responses. \n",
    "\n",
    "My first question that I would've had for Talk to Books is \"How to try and have a sober lifestyle in an alcohol-obsessed world\" \n",
    "\n",
    "The first response it provided was differing advice on how to have this type of lifestyle, not a list of books that are relevant to the topic, the list included:\n",
    "\n",
    "1. Be Clear on Your Goals \n",
    "2. Build a Support System\n",
    "3. Develop Alternatives  \n",
    "4. Practice Saying No\n",
    "\n",
    "So I prompted the AI to \"compile a list of books that are relevant to the topic\". Talk to Books then scanned its vast library to find relevant books and they answered with:\n",
    "\n",
    "<img src = \"books.png\" width=\"350px\" />\n",
    "\n",
    "- The Unexpected Joy of Being Sober by Catherine Gray: This memoir combines personal experience with research to explore the surprising benefits of quitting alcohol.\n",
    "- Quit Like a Woman: The Radical Choice to Not Drink in a Culture Obsessed with Alcohol by Holly Whitaker: This book takes a feminist approach to sobriety, examining societal pressures around drinking for women and offering alternative paths to fulfillment.\n",
    "- Sober on a Drunk Planet: Giving Up Alcohol. The Unexpected Shortcut to Finding Happiness, Health and Financial Freedom by Catherine Gray This humorous and relatable guide offers practical strategies for quitting alcohol and building a fulfilling sober life.\n",
    "- We Are the Luckiest: The Surprising Magic of a Sober Life by Laura McKowen: A memoir that explores the unexpected joys of sobriety and reframes the concept of addiction.\n",
    "- Twenty-Four Hours a Day: This classic daily meditation guide offers support for those in recovery from alcoholism, providing reflections and prayers for maintaining sobriety.\n",
    "\n",
    "\n",
    "These books, offering a mix of personal experiences, practical strategies, and reflections on the societal pressures surrounding alcohol, most likely provide valuable insights for anyone seeking to navigate a sober lifestyle in a world that often revolves around drinking.\n",
    "\n",
    "Of course, this is just a small sampling of the wisdom Talk to Books might have given. "
   ]
  },
  {
   "cell_type": "markdown",
   "id": "181993b6-3a4d-4468-bbc8-1dc888797adf",
   "metadata": {},
   "source": [
    "## Conclusion: The Future of AI-Powered Book Discovery\n",
    "\n",
    "Bard, while not a direct replacement for Talk to Books, offers a glimpse into the future of AI-powered book discovery. Its ability to understand context and provide relevant recommendations based on a user's interests and needs is something that is very promising for the future.  \n",
    "\n",
    "Of course, as with any AI technology, there are limitations and room for improvement. Bard's initial response to my query about sobriety, while helpful, didn't quite capture the magic of Talk to Books' ability to surface relevant books from a wide range. But, for now, i'll take this as their answers were very insightful."
   ]
  },
  {
   "cell_type": "code",
   "execution_count": null,
   "id": "17ea87dc-1323-42aa-be3b-7127fa6097a8",
   "metadata": {},
   "outputs": [],
   "source": []
  }
 ],
 "metadata": {
  "citation-manager": {
   "items": {}
  },
  "kernelspec": {
   "display_name": "Python 3.8",
   "language": "python",
   "name": "python3"
  },
  "language_info": {
   "codemirror_mode": {
    "name": "ipython",
    "version": 3
   },
   "file_extension": ".py",
   "mimetype": "text/x-python",
   "name": "python",
   "nbconvert_exporter": "python",
   "pygments_lexer": "ipython3",
   "version": "3.8.8"
  }
 },
 "nbformat": 4,
 "nbformat_minor": 5
}
